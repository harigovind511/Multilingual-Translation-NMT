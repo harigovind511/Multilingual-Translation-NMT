{
 "cells": [
  {
   "cell_type": "code",
   "execution_count": null,
   "metadata": {},
   "outputs": [],
   "source": [
    "from numpy import array\n",
    "from keras.preprocessing.text import Tokenizer\n",
    "from keras.preprocessing.sequence import pad_sequences\n",
    "from keras.utils import to_categorical\n",
    "from keras.utils.vis_utils import plot_model\n",
    "from keras.models import Sequential\n",
    "from keras.layers import LSTM\n",
    "from keras.layers import Dense\n",
    "from keras.layers import Embedding\n",
    "from keras.layers import RepeatVector\n",
    "from keras.layers import TimeDistributed\n",
    "from keras.callbacks import ModelCheckpoint"
   ]
  },
  {
   "cell_type": "code",
   "execution_count": null,
   "metadata": {},
   "outputs": [],
   "source": [
    "# Path to the data txt file on disk\n",
    "german_english = 'data/deu.txt'"
   ]
  },
  {
   "cell_type": "code",
   "execution_count": null,
   "metadata": {},
   "outputs": [],
   "source": [
    "# Defining Input & Target response arrays\n",
    "input_seq = []\n",
    "target_seq = []"
   ]
  },
  {
   "cell_type": "code",
   "execution_count": null,
   "metadata": {},
   "outputs": [],
   "source": [
    "# Reading Input Seq & Target Seq\n",
    "lines = []\n",
    "with open(german_english, 'r', encoding='utf-8') as f:\n",
    "    lines = f.read().split('\\n')\n",
    "\n",
    "for line in lines:\n",
    "    if len(line.split('\\t')) > 1:\n",
    "        input_seq.append(line.split('\\t')[0])\n",
    "        target_seq.append(line.split('\\t')[1])\n",
    "    \n",
    "print('Number of Train Input Sequence', len(input_seq))\n",
    "print('Number of Train Target Sequence', len(target_seq))"
   ]
  },
  {
   "cell_type": "code",
   "execution_count": null,
   "metadata": {},
   "outputs": [],
   "source": [
    "# fit a tokenizer\n",
    "def create_tokenizer(lines):\n",
    "    tokenizer = Tokenizer()\n",
    "    tokenizer.fit_on_texts(lines)\n",
    "    return tokenizer"
   ]
  },
  {
   "cell_type": "code",
   "execution_count": null,
   "metadata": {},
   "outputs": [],
   "source": [
    "# max sentence length\n",
    "def max_length(lines):\n",
    "    return max(len(line.split()) for line in lines)"
   ]
  },
  {
   "cell_type": "code",
   "execution_count": null,
   "metadata": {},
   "outputs": [],
   "source": [
    "# encode and pad sequences\n",
    "def encode_sequences(tokenizer, length, lines):\n",
    "    # integer encode sequences\n",
    "    X = tokenizer.texts_to_sequences(lines)\n",
    "    # pad sequences with 0 values\n",
    "    X = pad_sequences(X, maxlen=length, padding='post')\n",
    "    return X"
   ]
  },
  {
   "cell_type": "code",
   "execution_count": null,
   "metadata": {},
   "outputs": [],
   "source": [
    "# one hot encode target sequence\n",
    "def encode_output(sequences, vocab_size):\n",
    "    ylist = list()\n",
    "    for sequence in sequences:\n",
    "        encoded = to_categorical(sequence, num_classes=vocab_size)\n",
    "        ylist.append(encoded)\n",
    "    y = array(ylist)\n",
    "    y = y.reshape(sequences.shape[0], sequences.shape[1], vocab_size)\n",
    "    return y"
   ]
  },
  {
   "cell_type": "code",
   "execution_count": null,
   "metadata": {},
   "outputs": [],
   "source": [
    "# TODO: Remove this block\n",
    "input_seq = input_seq[: 12000]\n",
    "target_seq = target_seq[: 12000]\n",
    "\n",
    "# Create train Test Split\n",
    "train_input_seq, test_input_seq = input_seq[: 10000], input_seq[10000: ]\n",
    "train_target_seq, test_target_seq = target_seq[: 10000], target_seq[10000: ]"
   ]
  },
  {
   "cell_type": "code",
   "execution_count": null,
   "metadata": {},
   "outputs": [],
   "source": [
    "# Preparing Training Data\n",
    "train_input_tokenizer = create_tokenizer(train_input_seq)\n",
    "train_input_vocab_size = len(train_input_tokenizer.word_index) + 1\n",
    "\n",
    "print('Vocabulary size Train Input Sequence: ', train_input_vocab_size)\n",
    "\n",
    "train_target_tokenizer = create_tokenizer(train_target_seq)\n",
    "train_target_vocab_size = len(train_target_tokenizer.word_index) + 1\n",
    "\n",
    "print('Vocabulary size Train Target Sequence: ', train_target_vocab_size)\n",
    "\n",
    "# Preparing Testing Data\n",
    "test_input_tokenizer = create_tokenizer(test_input_seq)\n",
    "test_input_vocab_size = len(test_input_tokenizer.word_index) + 1\n",
    "\n",
    "print('Vocabulary size Test Input Sequence: ', test_input_vocab_size)\n",
    "\n",
    "test_target_tokenizer = create_tokenizer(test_target_seq)\n",
    "test_input_vocab_size = len(test_target_tokenizer.word_index) + 1\n",
    "\n",
    "print('Vocabulary size Test Target Sequence: ', test_input_vocab_size)"
   ]
  },
  {
   "cell_type": "code",
   "execution_count": null,
   "metadata": {},
   "outputs": [],
   "source": [
    "# Preparing Training Data\n",
    "train_x = encode_sequences(train_input_tokenizer, train_input_vocab_size, train_input_seq)\n",
    "train_y = encode_sequences(train_target_tokenizer, train_target_vocab_size, train_target_seq)\n",
    "train_y = encode_output(train_y, train_target_vocab_size)\n",
    "\n",
    "train_input_seq = []\n",
    "train_target_seq = []\n",
    "\n",
    "# Preparing Testing Data\n",
    "test_x = encode_sequences(test_input_tokenizer, test_input_vocab_size, test_input_seq)\n",
    "test_y = encode_sequences(test_target_tokenizer, test_target_vocab_size, test_target_seq)\n",
    "test_y = encode_output(test_y, test_target_vocab_size)\n",
    "\n",
    "test_input_seq = []\n",
    "test_target_seq = []"
   ]
  },
  {
   "cell_type": "code",
   "execution_count": null,
   "metadata": {},
   "outputs": [],
   "source": [
    "# Create NMT Model\n",
    "def define_model(src_vocab, tar_vocab, src_timesteps, tar_timesteps, n_units):\n",
    "    model = Sequential()\n",
    "    model.add(Embedding(src_vocab, n_units, input_length=src_timesteps, mask_zero=True))\n",
    "    model.add(LSTM(n_units))\n",
    "    model.add(RepeatVector(tar_timesteps))\n",
    "    model.add(LSTM(n_units, return_sequences=True))\n",
    "    model.add(TimeDistributed(Dense(tar_vocab, activation='softmax')))\n",
    "    return model"
   ]
  },
  {
   "cell_type": "code",
   "execution_count": null,
   "metadata": {},
   "outputs": [],
   "source": [
    "# define model\n",
    "model = define_model(train_input_vocab_size, train_target_vocab_size, 100, 100, 256)\n",
    "model.compile(optimizer='adam', loss='categorical_crossentropy')\n",
    "\n",
    "# summarize defined model\n",
    "model.summary()"
   ]
  },
  {
   "cell_type": "code",
   "execution_count": null,
   "metadata": {},
   "outputs": [],
   "source": []
  }
 ],
 "metadata": {
  "kernelspec": {
   "display_name": "Python 3",
   "language": "python",
   "name": "python3"
  },
  "language_info": {
   "codemirror_mode": {
    "name": "ipython",
    "version": 3
   },
   "file_extension": ".py",
   "mimetype": "text/x-python",
   "name": "python",
   "nbconvert_exporter": "python",
   "pygments_lexer": "ipython3",
   "version": "3.5.6"
  }
 },
 "nbformat": 4,
 "nbformat_minor": 2
}
